{
  "nbformat": 4,
  "nbformat_minor": 0,
  "metadata": {
    "colab": {
      "name": "Lab1.ipynb",
      "provenance": [],
      "authorship_tag": "ABX9TyN/+zS5oCtiY19ObjB8fRom",
      "include_colab_link": true
    },
    "kernelspec": {
      "name": "python3",
      "display_name": "Python 3"
    }
  },
  "cells": [
    {
      "cell_type": "markdown",
      "metadata": {
        "id": "view-in-github",
        "colab_type": "text"
      },
      "source": [
        "<a href=\"https://colab.research.google.com/github/cmostir/Practice-/blob/master/Lab1.ipynb\" target=\"_parent\"><img src=\"https://colab.research.google.com/assets/colab-badge.svg\" alt=\"Open In Colab\"/></a>"
      ]
    },
    {
      "cell_type": "code",
      "metadata": {
        "id": "Ezb5OysUfv5o",
        "colab_type": "code",
        "colab": {}
      },
      "source": [
        ""
      ],
      "execution_count": null,
      "outputs": []
    },
    {
      "cell_type": "markdown",
      "metadata": {
        "id": "DBP3u2yIfwn8",
        "colab_type": "text"
      },
      "source": [
        "## Do you like using Juptyer Notebooks?\n",
        "\n",
        " "
      ]
    },
    {
      "cell_type": "markdown",
      "metadata": {
        "id": "pZNKKch6gAhm",
        "colab_type": "text"
      },
      "source": [
        "answer here"
      ]
    },
    {
      "cell_type": "markdown",
      "metadata": {
        "id": "lhMuzG_2gdhJ",
        "colab_type": "text"
      },
      "source": [
        "## What do you want to learn more about Jupyter Notebokks?"
      ]
    },
    {
      "cell_type": "markdown",
      "metadata": {
        "id": "dxZ23WWQglV3",
        "colab_type": "text"
      },
      "source": [
        "this is my answer"
      ]
    },
    {
      "cell_type": "markdown",
      "metadata": {
        "id": "IOD0b1uIgnF0",
        "colab_type": "text"
      },
      "source": [
        "![Old Main]()"
      ]
    },
    {
      "cell_type": "markdown",
      "metadata": {
        "id": "xtN64BOWhXHe",
        "colab_type": "text"
      },
      "source": [
        "![Old Main](https://raw.githubusercontent.com/cmostir/Practice-/master/Images/30D6C97F-C233-4CED-BC2F-330C50CCECC8.jpeg)"
      ]
    }
  ]
}